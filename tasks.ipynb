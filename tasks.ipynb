{
 "cells": [
  {
   "cell_type": "markdown",
   "metadata": {},
   "source": [
    "# Tasks\n",
    "\n",
    "Machine Learning and Statistics\n",
    "\n",
    "Winter 2023/24\n",
    "\n",
    "by Anthony McGarry\n",
    "\n",
    "***"
   ]
  },
  {
   "cell_type": "markdown",
   "metadata": {},
   "source": [
    "## Task 1\n",
    "\n",
    "> Square roots are difficult to calculate. In Python, you typically\n",
    "use the power operator (a double asterisk) or a package such\n",
    "as 'math'. In this task, you should write a function 'sqrt(x)' to\n",
    "approximate the square root of a floating point number x without\n",
    "using the power operator or a package.\n",
    "\n",
    "> Rather, you should use the Newton’s method.Start with an 2 Square initial guess for the square root called $z_0$. You then repeatedly\n",
    "improve it using the following formula, until the difference between some previous guess $z_i$ and the next $z_{i+1}$ is less than some threshold, say 0.01.\n",
    "\n",
    "$$ z_{i+1} = z_i - \\frac{z_i * z_i - x}{2z_i} $$"
   ]
  },
  {
   "cell_type": "code",
   "execution_count": 16,
   "metadata": {},
   "outputs": [],
   "source": [
    "def newton(x, guess = 2.0, tol = 1e-10):\n",
    "  while True:\n",
    "    next_guess = 0.5 * (guess + x / guess)\n",
    "    if abs(next_guess - guess) < tol:\n",
    "      return next_guess\n",
    "    guess = next_guess\n",
    "    \n"
   ]
  },
  {
   "cell_type": "code",
   "execution_count": 17,
   "metadata": {},
   "outputs": [
    {
     "name": "stdout",
     "output_type": "stream",
     "text": [
      "The square root of 36 is approx 6.0\n"
     ]
    }
   ],
   "source": [
    "# The number we want to make this the square root of\n",
    "\n",
    "x = 36\n",
    "result = newton(x)\n",
    "\n",
    "print(f'The square root of {x} is approx {result}')"
   ]
  },
  {
   "cell_type": "markdown",
   "metadata": {},
   "source": [
    "## Task 2\n",
    "\n",
    "> Consider the below contingency table based on a survey asking respondents whether they prefer coffee or tea and whether they prefer plain or chocolate biscuits. Use scipy.stats to perform a chi-squared test to see whether there is any evidence of an association between drink preference and biscuit preference in this instance.\n",
    "\n",
    "\n",
    "|          |          | Biscuit  |          |\n",
    "|----------|----------|----------|----------|\n",
    "|              |              | Chocolate    | Plain        |\n",
    "| Drink        | Coffee       | 43           | 57           |\n",
    "|              | Tea          | 56           | 45           |\n",
    "\n",
    "\n",
    "\n",
    "\n"
   ]
  }
 ],
 "metadata": {
  "kernelspec": {
   "display_name": "base",
   "language": "python",
   "name": "python3"
  },
  "language_info": {
   "codemirror_mode": {
    "name": "ipython",
    "version": 3
   },
   "file_extension": ".py",
   "mimetype": "text/x-python",
   "name": "python",
   "nbconvert_exporter": "python",
   "pygments_lexer": "ipython3",
   "version": "3.11.4"
  },
  "orig_nbformat": 4
 },
 "nbformat": 4,
 "nbformat_minor": 2
}
