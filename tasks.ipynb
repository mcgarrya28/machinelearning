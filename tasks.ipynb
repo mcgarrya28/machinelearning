{
 "cells": [
  {
   "cell_type": "markdown",
   "metadata": {},
   "source": [
    "# Tasks\n",
    "\n",
    "Machine Learning and Statistics\n",
    "\n",
    "Winter 2023/24\n",
    "\n",
    "by Anthony McGarry\n",
    "\n",
    "***"
   ]
  },
  {
   "cell_type": "markdown",
   "metadata": {},
   "source": [
    "## Task 1\n",
    "\n",
    "> Square roots are difficult to calculate. In Python, you typically\n",
    "use the power operator (a double asterisk) or a package such\n",
    "as 'math'. In this task, you should write a function 'sqrt(x)' to\n",
    "approximate the square root of a floating point number x without\n",
    "using the power operator or a package.\n",
    "\n",
    "> Rather, you should use the Newton’s method.Start with an 2 Square initial guess for the square root called $z_0$. You then repeatedly\n",
    "improve it using the following formula, until the difference between some previous guess $z_i$ and the next $z_{i+1}$ is less than some threshold, say 0.01.\n",
    "\n",
    "$$ z_{i+1} = z_i - \\frac{z_i * z_i - x}{2z_i} $$"
   ]
  },
  {
   "cell_type": "code",
   "execution_count": 21,
   "metadata": {},
   "outputs": [],
   "source": [
    "def newton(x, guess = 2.0, tol = 1e-10):\n",
    "  while True:\n",
    "    next_guess = 0.5 * (guess + x / guess)\n",
    "    if abs(next_guess - guess) < tol:\n",
    "      return next_guess\n",
    "    guess = next_guess\n",
    "    \n"
   ]
  },
  {
   "cell_type": "code",
   "execution_count": 22,
   "metadata": {},
   "outputs": [
    {
     "name": "stdout",
     "output_type": "stream",
     "text": [
      "The square root of 36 is approx 6.0\n"
     ]
    }
   ],
   "source": [
    "# The number we want to make this the square root of\n",
    "\n",
    "x = 36\n",
    "result = newton(x)\n",
    "\n",
    "print(f'The square root of {x} is approx {result}')"
   ]
  },
  {
   "cell_type": "markdown",
   "metadata": {},
   "source": [
    "## Task 2\n",
    "\n",
    "> Consider the below contingency table based on a survey asking respondents whether they prefer coffee or tea and whether they prefer plain or chocolate biscuits. Use scipy.stats to perform a chi-squared test to see whether there is any evidence of an association between drink preference and biscuit preference in this instance.\n",
    "\n",
    "\n",
    "|          |          | Biscuit  |          |\n",
    "|----------|----------|----------|----------|\n",
    "|              |              | Chocolate    | Plain        |\n",
    "| Drink        | Coffee       | 43           | 57           |\n",
    "|              | Tea          | 56           | 45           |\n",
    "\n",
    "\n",
    "\n",
    "\n"
   ]
  },
  {
   "cell_type": "code",
   "execution_count": 23,
   "metadata": {},
   "outputs": [],
   "source": [
    "# Import both numpy and chi2_contingency from scipy.stats\n",
    "\n",
    "import numpy as np\n",
    "from scipy.stats import chi2_contingency"
   ]
  },
  {
   "cell_type": "code",
   "execution_count": 24,
   "metadata": {},
   "outputs": [],
   "source": [
    "# Create a 2x2 contingency table\n",
    "observed = np.array([[43, 57],\n",
    "                    [56, 45]])"
   ]
  },
  {
   "cell_type": "code",
   "execution_count": 25,
   "metadata": {},
   "outputs": [
    {
     "name": "stdout",
     "output_type": "stream",
     "text": [
      "Chi-squared statistic: 2.6359100836554257\n",
      "p-value: 0.10447218120907394\n",
      "Degrees of freedom: 1\n",
      "Expected frequencies:\n",
      "[[49.25373134 50.74626866]\n",
      " [49.74626866 51.25373134]]\n"
     ]
    }
   ],
   "source": [
    "# Perform the chi-squared test\n",
    "chi2, p, dof, expected = chi2_contingency(observed)\n",
    "\n",
    "print(\"Chi-squared statistic:\", chi2)\n",
    "print(\"p-value:\", p)\n",
    "print(\"Degrees of freedom:\", dof)\n",
    "print(\"Expected frequencies:\")\n",
    "print(expected)"
   ]
  },
  {
   "cell_type": "markdown",
   "metadata": {},
   "source": [
    "Chi Square Test Analysis\n",
    "\n",
    "- The chi-squared statistic in this case is a numerical measure of the difference between the observed and expected frequencies in the contingency table. It quantifies how much the actual data   deviates from what would be expected under the assumption that there is no association between drink preference and biscuit preference.\n",
    "\n",
    "- Using a significance level of 0.05. If the p-value is less than 0.05, it can be concluded that there is evidence of an association. If the p-value is greater than 0.05, you would conclude that there is no significant association between these two variables. Based on the results of the above outputs there does not appear to be any association around the preferences of drink and biscuits.\n",
    "\n"
   ]
  },
  {
   "cell_type": "markdown",
   "metadata": {},
   "source": [
    "Reference\n",
    "\n",
    "1. https://www.simplilearn.com/tutorials/statistics-tutorial/chi-square-test\n",
    "\n",
    "2. https://www.jmp.com/en_be/statistics-knowledge-portal/chi-square-test.html"
   ]
  },
  {
   "cell_type": "markdown",
   "metadata": {},
   "source": [
    "## Task 3\n",
    "\n",
    "> Perform a t-test on the famous penguins data set to investigate whether there is evidence of a significant difference in the body mass of male and female gentoo penguins."
   ]
  },
  {
   "cell_type": "code",
   "execution_count": 26,
   "metadata": {},
   "outputs": [],
   "source": [
    "import seaborn as sns\n",
    "from scipy import stats\n",
    "\n",
    "# Load the penguins dataset from seaborn\n",
    "penguins = sns.load_dataset('penguins')\n"
   ]
  },
  {
   "cell_type": "code",
   "execution_count": 27,
   "metadata": {},
   "outputs": [],
   "source": [
    "male_body_mass = penguins.loc[(penguins['species'] == 'Gentoo') & (penguins['sex'] == 'Male'), 'body_mass_g']\n",
    "female_body_mass = penguins.loc[(penguins['species'] == 'Gentoo') & (penguins['sex'] == 'Female'), 'body_mass_g']"
   ]
  },
  {
   "cell_type": "code",
   "execution_count": 28,
   "metadata": {},
   "outputs": [
    {
     "name": "stdout",
     "output_type": "stream",
     "text": [
      "T-statistic: 14.761368414543291\n",
      "P-value: 1.8677596749117468e-28\n"
     ]
    }
   ],
   "source": [
    "# Using scipy perform the testing\n",
    "t_statistic, p_value = stats.ttest_ind(male_body_mass, female_body_mass, equal_var=False)\n",
    "\n",
    "# Print the results of t test and p-value\n",
    "print(f'T-statistic: {t_statistic}')\n",
    "print(f'P-value: {p_value}')"
   ]
  },
  {
   "cell_type": "markdown",
   "metadata": {},
   "source": [
    "As the p-value is less than the chosen significance level (0.05), you can reject the null hypothesis and conclude that there is evidence of a significant difference in the body mass of male and female gentoo penguins."
   ]
  },
  {
   "cell_type": "markdown",
   "metadata": {},
   "source": [
    "Reference\n",
    "\n",
    "1. https://docs.scipy.org/doc/scipy/reference/generated/scipy.stats.ttest_ind.html#scipy-stats-ttest-ind\n",
    "2. https://seaborn.pydata.org/tutorial/function_overview.html\n",
    "3. https://cs533.ekstrandom.net/f20/resources/tutorials/penguinsamples/"
   ]
  },
  {
   "cell_type": "code",
   "execution_count": null,
   "metadata": {},
   "outputs": [],
   "source": []
  }
 ],
 "metadata": {
  "kernelspec": {
   "display_name": "base",
   "language": "python",
   "name": "python3"
  },
  "language_info": {
   "codemirror_mode": {
    "name": "ipython",
    "version": 3
   },
   "file_extension": ".py",
   "mimetype": "text/x-python",
   "name": "python",
   "nbconvert_exporter": "python",
   "pygments_lexer": "ipython3",
   "version": "3.11.4"
  },
  "orig_nbformat": 4
 },
 "nbformat": 4,
 "nbformat_minor": 2
}
